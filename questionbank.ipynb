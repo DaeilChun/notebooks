{
 "cells": [
  {
   "cell_type": "markdown",
   "metadata": {},
   "source": [
    "### 문제 텍스트 유사도 분석 워크북\n",
    "\n",
    "전대일, 2022-06-17\n",
    "\n",
    "#### 테스트 개요 및 목적\n",
    "- OO 기출문제 수집 O만건 중 5건을 랜덤 샘플링하여 주요개념 리뷰\n",
    "- 동일한 소단원 내에서 샘플을 선택하여 NLP 텍스트 유사도의 효과 확인(다른 단원이라면 당연히 유사도가 낮을 것으로 가정함)\n",
    "- 기출로 서비스에 활용될 텍스트유사도 관련 주요 기술 의사결정 이슈를 도출함\n"
   ]
  },
  {
   "cell_type": "markdown",
   "metadata": {},
   "source": [
    "#### 샘플 데이터 로드\n",
    "- 아래에서 사용하는 questions_math.csv는 엑셀로 제공받은 수학 기출문제 OCR 처리 자료에서 컬럼제목을 1줄로 변경하고 CSV(UTF, 콤마) 저장한 파일이며, 요청시 제공가능함."
   ]
  },
  {
   "cell_type": "code",
   "execution_count": 10,
   "metadata": {},
   "outputs": [
    {
     "data": {
      "text/html": [
       "<div>\n",
       "<style scoped>\n",
       "    .dataframe tbody tr th:only-of-type {\n",
       "        vertical-align: middle;\n",
       "    }\n",
       "\n",
       "    .dataframe tbody tr th {\n",
       "        vertical-align: top;\n",
       "    }\n",
       "\n",
       "    .dataframe thead th {\n",
       "        text-align: right;\n",
       "    }\n",
       "</style>\n",
       "<table border=\"1\" class=\"dataframe\">\n",
       "  <thead>\n",
       "    <tr style=\"text-align: right;\">\n",
       "      <th></th>\n",
       "      <th>지역명</th>\n",
       "      <th>학교급</th>\n",
       "      <th>학교명</th>\n",
       "      <th>학년</th>\n",
       "      <th>과목</th>\n",
       "      <th>시험년도</th>\n",
       "      <th>학기</th>\n",
       "      <th>시험구분</th>\n",
       "      <th>문항순번</th>\n",
       "      <th>문항Text</th>\n",
       "      <th>대단원</th>\n",
       "      <th>중단원</th>\n",
       "      <th>소단원</th>\n",
       "      <th>유형</th>\n",
       "      <th>하</th>\n",
       "      <th>중하</th>\n",
       "      <th>중</th>\n",
       "      <th>중상</th>\n",
       "      <th>상</th>\n",
       "    </tr>\n",
       "  </thead>\n",
       "  <tbody>\n",
       "    <tr>\n",
       "      <th>44511</th>\n",
       "      <td>경상북도 구미시</td>\n",
       "      <td>중</td>\n",
       "      <td>해마루중학교</td>\n",
       "      <td>2</td>\n",
       "      <td>MATH</td>\n",
       "      <td>2019</td>\n",
       "      <td>1</td>\n",
       "      <td>기말</td>\n",
       "      <td>10</td>\n",
       "      <td>해마루 중학교의 올해 학생 수는 작년에 비하여 남학생 수는 \\( 3 \\% \\) 줄고...</td>\n",
       "      <td>5. 연립일차방정식의 활용</td>\n",
       "      <td>1. 연립일차방정식의 활용</td>\n",
       "      <td>8. 비율에 관한 문제</td>\n",
       "      <td>2. 증가, 감소에 관한 문제 (연립일차방정식)</td>\n",
       "      <td>0</td>\n",
       "      <td>0</td>\n",
       "      <td>3</td>\n",
       "      <td>2</td>\n",
       "      <td>0</td>\n",
       "    </tr>\n",
       "    <tr>\n",
       "      <th>6855</th>\n",
       "      <td>인천광역시 부평구</td>\n",
       "      <td>중</td>\n",
       "      <td>산곡남중학교</td>\n",
       "      <td>2</td>\n",
       "      <td>MATH</td>\n",
       "      <td>2018</td>\n",
       "      <td>1</td>\n",
       "      <td>기말</td>\n",
       "      <td>17</td>\n",
       "      <td>작년에 어느 회사의 사원 수는 500 명이었다. 올해는 작년보다 남자 사원이 \\( ...</td>\n",
       "      <td>5. 연립일차방정식의 활용</td>\n",
       "      <td>1. 연립일차방정식의 활용</td>\n",
       "      <td>8. 비율에 관한 문제</td>\n",
       "      <td>2. 증가, 감소에 관한 문제 (연립일차방정식)</td>\n",
       "      <td>0</td>\n",
       "      <td>0</td>\n",
       "      <td>3</td>\n",
       "      <td>3</td>\n",
       "      <td>0</td>\n",
       "    </tr>\n",
       "    <tr>\n",
       "      <th>47340</th>\n",
       "      <td>부산광역시 부산진구</td>\n",
       "      <td>중</td>\n",
       "      <td>동의중학교</td>\n",
       "      <td>2</td>\n",
       "      <td>MATH</td>\n",
       "      <td>2020</td>\n",
       "      <td>1</td>\n",
       "      <td>기말</td>\n",
       "      <td>17</td>\n",
       "      <td>어느 중학교의 올 해 학생 수는 작년보다 남학생 은 \\( 10 \\% \\) 늘고 여학...</td>\n",
       "      <td>5. 연립일차방정식의 활용</td>\n",
       "      <td>1. 연립일차방정식의 활용</td>\n",
       "      <td>8. 비율에 관한 문제</td>\n",
       "      <td>2. 증가, 감소에 관한 문제 (연립일차방정식)</td>\n",
       "      <td>0</td>\n",
       "      <td>0</td>\n",
       "      <td>4</td>\n",
       "      <td>0</td>\n",
       "      <td>1</td>\n",
       "    </tr>\n",
       "    <tr>\n",
       "      <th>10139</th>\n",
       "      <td>서울특별시 영등포구</td>\n",
       "      <td>중</td>\n",
       "      <td>여의도중학교</td>\n",
       "      <td>2</td>\n",
       "      <td>MATH</td>\n",
       "      <td>2018</td>\n",
       "      <td>1</td>\n",
       "      <td>중간</td>\n",
       "      <td>23</td>\n",
       "      <td>다음 표는 빵과 버터에 들어있는 단백질과 지방의 백분율 \\( (\\%) \\) 이다. ...</td>\n",
       "      <td>5. 연립일차방정식의 활용</td>\n",
       "      <td>1. 연립일차방정식의 활용</td>\n",
       "      <td>8. 비율에 관한 문제</td>\n",
       "      <td>4. 합금과 영양소에 관한 문제 (연립일차방정식)</td>\n",
       "      <td>0</td>\n",
       "      <td>0</td>\n",
       "      <td>5</td>\n",
       "      <td>0</td>\n",
       "      <td>0</td>\n",
       "    </tr>\n",
       "    <tr>\n",
       "      <th>15328</th>\n",
       "      <td>서울특별시 강동구</td>\n",
       "      <td>중</td>\n",
       "      <td>한영중학교</td>\n",
       "      <td>2</td>\n",
       "      <td>MATH</td>\n",
       "      <td>2018</td>\n",
       "      <td>1</td>\n",
       "      <td>중간</td>\n",
       "      <td>19</td>\n",
       "      <td>어느 중학교 작년 입학생 수는 150 명이었다. 올 해 입학한 남학생 수는 작년에 ...</td>\n",
       "      <td>5. 연립일차방정식의 활용</td>\n",
       "      <td>1. 연립일차방정식의 활용</td>\n",
       "      <td>8. 비율에 관한 문제</td>\n",
       "      <td>2. 증가, 감소에 관한 문제 (연립일차방정식)</td>\n",
       "      <td>0</td>\n",
       "      <td>0</td>\n",
       "      <td>3</td>\n",
       "      <td>3</td>\n",
       "      <td>0</td>\n",
       "    </tr>\n",
       "  </tbody>\n",
       "</table>\n",
       "</div>"
      ],
      "text/plain": [
       "              지역명 학교급     학교명  학년    과목  시험년도  학기 시험구분  문항순번  \\\n",
       "44511    경상북도 구미시   중  해마루중학교   2  MATH  2019   1   기말    10   \n",
       "6855    인천광역시 부평구   중  산곡남중학교   2  MATH  2018   1   기말    17   \n",
       "47340  부산광역시 부산진구   중   동의중학교   2  MATH  2020   1   기말    17   \n",
       "10139  서울특별시 영등포구   중  여의도중학교   2  MATH  2018   1   중간    23   \n",
       "15328   서울특별시 강동구   중   한영중학교   2  MATH  2018   1   중간    19   \n",
       "\n",
       "                                                  문항Text             대단원  \\\n",
       "44511  해마루 중학교의 올해 학생 수는 작년에 비하여 남학생 수는 \\( 3 \\% \\) 줄고...  5. 연립일차방정식의 활용   \n",
       "6855   작년에 어느 회사의 사원 수는 500 명이었다. 올해는 작년보다 남자 사원이 \\( ...  5. 연립일차방정식의 활용   \n",
       "47340  어느 중학교의 올 해 학생 수는 작년보다 남학생 은 \\( 10 \\% \\) 늘고 여학...  5. 연립일차방정식의 활용   \n",
       "10139  다음 표는 빵과 버터에 들어있는 단백질과 지방의 백분율 \\( (\\%) \\) 이다. ...  5. 연립일차방정식의 활용   \n",
       "15328  어느 중학교 작년 입학생 수는 150 명이었다. 올 해 입학한 남학생 수는 작년에 ...  5. 연립일차방정식의 활용   \n",
       "\n",
       "                  중단원           소단원                           유형  하  중하  중  \\\n",
       "44511  1. 연립일차방정식의 활용  8. 비율에 관한 문제   2. 증가, 감소에 관한 문제 (연립일차방정식)  0   0  3   \n",
       "6855   1. 연립일차방정식의 활용  8. 비율에 관한 문제   2. 증가, 감소에 관한 문제 (연립일차방정식)  0   0  3   \n",
       "47340  1. 연립일차방정식의 활용  8. 비율에 관한 문제   2. 증가, 감소에 관한 문제 (연립일차방정식)  0   0  4   \n",
       "10139  1. 연립일차방정식의 활용  8. 비율에 관한 문제  4. 합금과 영양소에 관한 문제 (연립일차방정식)  0   0  5   \n",
       "15328  1. 연립일차방정식의 활용  8. 비율에 관한 문제   2. 증가, 감소에 관한 문제 (연립일차방정식)  0   0  3   \n",
       "\n",
       "       중상  상  \n",
       "44511   2  0  \n",
       "6855    3  0  \n",
       "47340   0  1  \n",
       "10139   0  0  \n",
       "15328   3  0  "
      ]
     },
     "execution_count": 10,
     "metadata": {},
     "output_type": "execute_result"
    }
   ],
   "source": [
    "import pandas as pd\n",
    "\n",
    "fulldata = pd.read_csv(\"questions_math.csv\")\n",
    "\n",
    "# 소단원 필터링\n",
    "temp_df = fulldata.loc[fulldata['소단원'] == '8. 비율에 관한 문제']\n",
    "del(fulldata)\n",
    "\n",
    "# 동일 소단원 내에서 랜덤 표본 추출\n",
    "sample_df = temp_df.sample(5, random_state=1)\n",
    "del(temp_df)\n",
    "\n",
    "# 데이터 Preivew\n",
    "sample_df.head()\n"
   ]
  },
  {
   "cell_type": "markdown",
   "metadata": {},
   "source": [
    "- 유사도 분석은 '문항Text' 컬럼을 대상으로 한다. 문항의 형태소를 분리하고, 빈도를 수치화(a.k.a. 벡터화)한 뒤, 각 벡터 상호간의 유사도를 다양한 방식으로 수치화한다.\n",
    "- 대상 컬럼에 수식(Latex)이 들어있고, 이에 대한 의사결정이 필요하나, 이번 테스트에서는 모두 삭제한다. 즉, 영문과 부호는 모두 삭제하고, 한글과 숫자만 남겨둔다."
   ]
  },
  {
   "cell_type": "markdown",
   "metadata": {},
   "source": [
    "#### 수식 삭제"
   ]
  },
  {
   "cell_type": "code",
   "execution_count": 11,
   "metadata": {},
   "outputs": [
    {
     "data": {
      "text/html": [
       "<div>\n",
       "<style scoped>\n",
       "    .dataframe tbody tr th:only-of-type {\n",
       "        vertical-align: middle;\n",
       "    }\n",
       "\n",
       "    .dataframe tbody tr th {\n",
       "        vertical-align: top;\n",
       "    }\n",
       "\n",
       "    .dataframe thead th {\n",
       "        text-align: right;\n",
       "    }\n",
       "</style>\n",
       "<table border=\"1\" class=\"dataframe\">\n",
       "  <thead>\n",
       "    <tr style=\"text-align: right;\">\n",
       "      <th></th>\n",
       "      <th>지역명</th>\n",
       "      <th>학교급</th>\n",
       "      <th>학교명</th>\n",
       "      <th>학년</th>\n",
       "      <th>과목</th>\n",
       "      <th>시험년도</th>\n",
       "      <th>학기</th>\n",
       "      <th>시험구분</th>\n",
       "      <th>문항순번</th>\n",
       "      <th>문항Text</th>\n",
       "      <th>대단원</th>\n",
       "      <th>중단원</th>\n",
       "      <th>소단원</th>\n",
       "      <th>유형</th>\n",
       "      <th>하</th>\n",
       "      <th>중하</th>\n",
       "      <th>중</th>\n",
       "      <th>중상</th>\n",
       "      <th>상</th>\n",
       "    </tr>\n",
       "  </thead>\n",
       "  <tbody>\n",
       "    <tr>\n",
       "      <th>44511</th>\n",
       "      <td>경상북도 구미시</td>\n",
       "      <td>중</td>\n",
       "      <td>해마루중학교</td>\n",
       "      <td>2</td>\n",
       "      <td>MATH</td>\n",
       "      <td>2019</td>\n",
       "      <td>1</td>\n",
       "      <td>기말</td>\n",
       "      <td>10</td>\n",
       "      <td>해마루 중학교의 올해 학생 수는 작년에 비하여 남학생 수는    3       줄고...</td>\n",
       "      <td>5. 연립일차방정식의 활용</td>\n",
       "      <td>1. 연립일차방정식의 활용</td>\n",
       "      <td>8. 비율에 관한 문제</td>\n",
       "      <td>2. 증가, 감소에 관한 문제 (연립일차방정식)</td>\n",
       "      <td>0</td>\n",
       "      <td>0</td>\n",
       "      <td>3</td>\n",
       "      <td>2</td>\n",
       "      <td>0</td>\n",
       "    </tr>\n",
       "    <tr>\n",
       "      <th>6855</th>\n",
       "      <td>인천광역시 부평구</td>\n",
       "      <td>중</td>\n",
       "      <td>산곡남중학교</td>\n",
       "      <td>2</td>\n",
       "      <td>MATH</td>\n",
       "      <td>2018</td>\n",
       "      <td>1</td>\n",
       "      <td>기말</td>\n",
       "      <td>17</td>\n",
       "      <td>작년에 어느 회사의 사원 수는 500 명이었다  올해는 작년보다 남자 사원이    ...</td>\n",
       "      <td>5. 연립일차방정식의 활용</td>\n",
       "      <td>1. 연립일차방정식의 활용</td>\n",
       "      <td>8. 비율에 관한 문제</td>\n",
       "      <td>2. 증가, 감소에 관한 문제 (연립일차방정식)</td>\n",
       "      <td>0</td>\n",
       "      <td>0</td>\n",
       "      <td>3</td>\n",
       "      <td>3</td>\n",
       "      <td>0</td>\n",
       "    </tr>\n",
       "    <tr>\n",
       "      <th>47340</th>\n",
       "      <td>부산광역시 부산진구</td>\n",
       "      <td>중</td>\n",
       "      <td>동의중학교</td>\n",
       "      <td>2</td>\n",
       "      <td>MATH</td>\n",
       "      <td>2020</td>\n",
       "      <td>1</td>\n",
       "      <td>기말</td>\n",
       "      <td>17</td>\n",
       "      <td>어느 중학교의 올 해 학생 수는 작년보다 남학생 은    10       늘고 여학...</td>\n",
       "      <td>5. 연립일차방정식의 활용</td>\n",
       "      <td>1. 연립일차방정식의 활용</td>\n",
       "      <td>8. 비율에 관한 문제</td>\n",
       "      <td>2. 증가, 감소에 관한 문제 (연립일차방정식)</td>\n",
       "      <td>0</td>\n",
       "      <td>0</td>\n",
       "      <td>4</td>\n",
       "      <td>0</td>\n",
       "      <td>1</td>\n",
       "    </tr>\n",
       "    <tr>\n",
       "      <th>10139</th>\n",
       "      <td>서울특별시 영등포구</td>\n",
       "      <td>중</td>\n",
       "      <td>여의도중학교</td>\n",
       "      <td>2</td>\n",
       "      <td>MATH</td>\n",
       "      <td>2018</td>\n",
       "      <td>1</td>\n",
       "      <td>중간</td>\n",
       "      <td>23</td>\n",
       "      <td>다음 표는 빵과 버터에 들어있는 단백질과 지방의 백분율            이다  ...</td>\n",
       "      <td>5. 연립일차방정식의 활용</td>\n",
       "      <td>1. 연립일차방정식의 활용</td>\n",
       "      <td>8. 비율에 관한 문제</td>\n",
       "      <td>4. 합금과 영양소에 관한 문제 (연립일차방정식)</td>\n",
       "      <td>0</td>\n",
       "      <td>0</td>\n",
       "      <td>5</td>\n",
       "      <td>0</td>\n",
       "      <td>0</td>\n",
       "    </tr>\n",
       "    <tr>\n",
       "      <th>15328</th>\n",
       "      <td>서울특별시 강동구</td>\n",
       "      <td>중</td>\n",
       "      <td>한영중학교</td>\n",
       "      <td>2</td>\n",
       "      <td>MATH</td>\n",
       "      <td>2018</td>\n",
       "      <td>1</td>\n",
       "      <td>중간</td>\n",
       "      <td>19</td>\n",
       "      <td>어느 중학교 작년 입학생 수는 150 명이었다  올 해 입학한 남학생 수는 작년에 ...</td>\n",
       "      <td>5. 연립일차방정식의 활용</td>\n",
       "      <td>1. 연립일차방정식의 활용</td>\n",
       "      <td>8. 비율에 관한 문제</td>\n",
       "      <td>2. 증가, 감소에 관한 문제 (연립일차방정식)</td>\n",
       "      <td>0</td>\n",
       "      <td>0</td>\n",
       "      <td>3</td>\n",
       "      <td>3</td>\n",
       "      <td>0</td>\n",
       "    </tr>\n",
       "  </tbody>\n",
       "</table>\n",
       "</div>"
      ],
      "text/plain": [
       "              지역명 학교급     학교명  학년    과목  시험년도  학기 시험구분  문항순번  \\\n",
       "44511    경상북도 구미시   중  해마루중학교   2  MATH  2019   1   기말    10   \n",
       "6855    인천광역시 부평구   중  산곡남중학교   2  MATH  2018   1   기말    17   \n",
       "47340  부산광역시 부산진구   중   동의중학교   2  MATH  2020   1   기말    17   \n",
       "10139  서울특별시 영등포구   중  여의도중학교   2  MATH  2018   1   중간    23   \n",
       "15328   서울특별시 강동구   중   한영중학교   2  MATH  2018   1   중간    19   \n",
       "\n",
       "                                                  문항Text             대단원  \\\n",
       "44511  해마루 중학교의 올해 학생 수는 작년에 비하여 남학생 수는    3       줄고...  5. 연립일차방정식의 활용   \n",
       "6855   작년에 어느 회사의 사원 수는 500 명이었다  올해는 작년보다 남자 사원이    ...  5. 연립일차방정식의 활용   \n",
       "47340  어느 중학교의 올 해 학생 수는 작년보다 남학생 은    10       늘고 여학...  5. 연립일차방정식의 활용   \n",
       "10139  다음 표는 빵과 버터에 들어있는 단백질과 지방의 백분율            이다  ...  5. 연립일차방정식의 활용   \n",
       "15328  어느 중학교 작년 입학생 수는 150 명이었다  올 해 입학한 남학생 수는 작년에 ...  5. 연립일차방정식의 활용   \n",
       "\n",
       "                  중단원           소단원                           유형  하  중하  중  \\\n",
       "44511  1. 연립일차방정식의 활용  8. 비율에 관한 문제   2. 증가, 감소에 관한 문제 (연립일차방정식)  0   0  3   \n",
       "6855   1. 연립일차방정식의 활용  8. 비율에 관한 문제   2. 증가, 감소에 관한 문제 (연립일차방정식)  0   0  3   \n",
       "47340  1. 연립일차방정식의 활용  8. 비율에 관한 문제   2. 증가, 감소에 관한 문제 (연립일차방정식)  0   0  4   \n",
       "10139  1. 연립일차방정식의 활용  8. 비율에 관한 문제  4. 합금과 영양소에 관한 문제 (연립일차방정식)  0   0  5   \n",
       "15328  1. 연립일차방정식의 활용  8. 비율에 관한 문제   2. 증가, 감소에 관한 문제 (연립일차방정식)  0   0  3   \n",
       "\n",
       "       중상  상  \n",
       "44511   2  0  \n",
       "6855    3  0  \n",
       "47340   0  1  \n",
       "10139   0  0  \n",
       "15328   3  0  "
      ]
     },
     "execution_count": 11,
     "metadata": {},
     "output_type": "execute_result"
    }
   ],
   "source": [
    "sample_df['문항Text'] = sample_df['문항Text'].str.replace(r'[^가-힣0-9]', ' ', regex=True) # 전체 데이터 적용시에는 속도 개선을 위한 변경이 필요.\n",
    "sample_df.head()"
   ]
  },
  {
   "cell_type": "markdown",
   "metadata": {},
   "source": [
    "- 수식이 제거된 문항 Text만 남은 것을 확인할 수 있다.\n",
    "- 수식 제거 후 많은 공백이 생성되었기 때문에 연속된 공백을 삭제하여 이후 테스트에서 가독성을 높인다."
   ]
  },
  {
   "cell_type": "code",
   "execution_count": 12,
   "metadata": {},
   "outputs": [
    {
     "data": {
      "text/plain": [
       "44511    해마루 중학교의 올해 학생 수는 작년에 비하여 남학생 수는    3       줄고...\n",
       "6855     작년에 어느 회사의 사원 수는 500 명이었다  올해는 작년보다 남자 사원이    ...\n",
       "47340    어느 중학교의 올 해 학생 수는 작년보다 남학생 은    10       늘고 여학...\n",
       "10139    다음 표는 빵과 버터에 들어있는 단백질과 지방의 백분율            이다  ...\n",
       "15328    어느 중학교 작년 입학생 수는 150 명이었다  올 해 입학한 남학생 수는 작년에 ...\n",
       "Name: 문항Text, dtype: object"
      ]
     },
     "execution_count": 12,
     "metadata": {},
     "output_type": "execute_result"
    }
   ],
   "source": [
    "# 공백 제거 전\n",
    "sample_df['문항Text']"
   ]
  },
  {
   "cell_type": "markdown",
   "metadata": {},
   "source": [
    "- 예를들어, 첫번째 행에 \"남학생 수는____3_______줄고\" 구간이 수식이 제거되면서 많은 연속 공백을 만든 구간이다."
   ]
  },
  {
   "cell_type": "markdown",
   "metadata": {},
   "source": [
    "\n",
    "#### 형태소 분리\n",
    "- KoNLPy의 2가지 형태소 태그 엔진(OKT, KKma)을 사용해서 비교한다."
   ]
  },
  {
   "cell_type": "code",
   "execution_count": 19,
   "metadata": {},
   "outputs": [],
   "source": [
    "import konlpy\n",
    "from konlpy.tag import Okt\n",
    "from konlpy.tag import Kkma\n",
    "okt = Okt()\n",
    "kkma = Kkma()"
   ]
  },
  {
   "cell_type": "markdown",
   "metadata": {},
   "source": [
    "- OKT(Open Korean Text)는 기존 KoNLPy에서 Twitter로 불리던 것이 명칭이 변경된 것임\n",
    "- KKma는 서울대 언어학 연구소에서 제공함"
   ]
  },
  {
   "cell_type": "code",
   "execution_count": 20,
   "metadata": {},
   "outputs": [
    {
     "name": "stdout",
     "output_type": "stream",
     "text": [
      "다음 표는 빵과 버터에 들어있는 단백질과 지방의 백분율 이다 단백질 92 지방 60 을 섭취하려면 빵과 버터를 각각 몇 씩 먹으면 되는지 구하여라 구분 단백질 지방 빵 9 2 버터 4 80 1 미지수를 정하시오 2 연립방정식을 세우시오 3 해를 구하시오 \n"
     ]
    }
   ],
   "source": [
    "# 테스트용 샘플 문제 텍스트\n",
    "sample_text = sample_df['문항Text'].iloc[3]\n",
    "print(sample_text)\n"
   ]
  },
  {
   "cell_type": "code",
   "execution_count": 21,
   "metadata": {},
   "outputs": [
    {
     "name": "stdout",
     "output_type": "stream",
     "text": [
      "OKT 명사추출 결과:\n",
      " ['다음', '표', '빵', '버터', '단백질', '지방', '백분율', '단백질', '지방', '섭취', '빵', '버터', '각각', '몇', '구', '구분', '단백질', '지방', '빵', '버터', '미지수', '정', '립', '방정식', '해', '구']\n",
      "KKma 명사추출 결과:\n",
      " ['다음', '표', '빵', '버터', '단백질', '지방', '분율', '92', '60', '섭취', '몇', '구', '구분', '분', '9', '2', '4', '80', '1', '미', '미지수', '지수', '연립', '연립방정식', '방정식', '3', '해']\n"
     ]
    }
   ],
   "source": [
    "print(\"OKT 명사추출 결과:\\n\", okt.nouns(sample_text))\n",
    "print(\"KKma 명사추출 결과:\\n\",kkma.nouns(sample_text))"
   ]
  },
  {
   "cell_type": "markdown",
   "metadata": {},
   "source": [
    "- OKT는 \"연립방정식\"을 인식하지 못해, \"립\", \"정\" 등이 분리되어 추출된다. 또한, 숫자를 모두 무시한다.\n",
    "- KKma는 \"백분율\"을 인식하지 못해, \"분율\"로 표시되고, \"미지수\"를 \"미\", \"지수\", \"미지수\" 3가지로 모두 반영한다.\n",
    "- OKT는 명사 반복시 이를 그대로 표현하는 반면, KKma는 반복명사는 한번만 추출한다. 이는 빈도수 기반 유사도 분석에 결정적인 영향을 줄 수 있다.\n",
    "- 이외에도 몇가지 이슈가 있으며, 아마도 수학과목 텍스트에 특화된 용어사전이 필요한 것으로 보인다.\n",
    "\n",
    "- 물론, 현재 기획에서는 어차피 단어나 형태소의 의미는 중요하지 않고, 최종 연산 결과인 유사도만 필요하기 떄문에 이런 이슈들이 문제가 안될 수도 있다. 모든 텍스트에 동일한 조건으로 연산을 하기 때문에. 물론, 반대로, 작은 형태소 차이가 유사도 계산을 크게 변경시켜 결과적으로 유사도의 데이터 품질이 저하될 수 있다. 이런 판단을 사전에 알기는 어렵고 여러가지 테스트를 해보면서 실증적으로 결정할 사안으로 보인다."
   ]
  },
  {
   "cell_type": "markdown",
   "metadata": {},
   "source": [
    "#### 맞춤형 용어 등록 방식(Customized KoNLPy)\n",
    "- 기존 Okt나 KKma에 맞춤용어를 등록하기 jar 파일에 수작업으로 입력한 뒤 다시 jar를 말아줘야 해서 번거롭다.\n",
    "\n",
    "- Customized KoNLPy를 사용하면 용어는 쉽게 등록할 수 있으나, KoNLPy 보다 기본 어휘사전에 약한 것으로 보여, trade-off 검토가 필요할 수 있다."
   ]
  },
  {
   "cell_type": "code",
   "execution_count": 22,
   "metadata": {},
   "outputs": [
    {
     "name": "stderr",
     "output_type": "stream",
     "text": [
      "c:\\Users\\daeil\\AppData\\Local\\Programs\\Python\\Python310\\lib\\site-packages\\konlpy\\tag\\_okt.py:17: UserWarning: \"Twitter\" has changed to \"Okt\" since KoNLPy v0.4.5.\n",
      "  warn('\"Twitter\" has changed to \"Okt\" since KoNLPy v0.4.5.')\n"
     ]
    }
   ],
   "source": [
    "import ckonlpy\n",
    "from ckonlpy.tag import Twitter\n",
    "\n",
    "CustomTagger = Twitter()\n"
   ]
  },
  {
   "cell_type": "markdown",
   "metadata": {},
   "source": [
    "- KoNLPy의 Okt 사용시 문제가되었던 \"연립방정식\"을 기준으로 테스트를 진행한다.\n",
    "\n",
    "- 용어사전 추가 전에 Customized KoNLPy의 기본 명사추출 기능을 살펴보고 사용하고, 용어사전에 \"연립방정식\" 추가한 후에 다시 동일 기능을 테스트한다. "
   ]
  },
  {
   "cell_type": "code",
   "execution_count": 23,
   "metadata": {},
   "outputs": [
    {
     "name": "stdout",
     "output_type": "stream",
     "text": [
      "['다음', '표', '빵', '버터', '단백질', '지방', '백분율', '단백질', '지방', '섭', '취하', '려면', '빵', '버터', '각각', '몇', '구', '구분', '단백질', '지방', '빵', '버터', '미지수', '정', '시오', '립', '방정식', '세', '우시', '오', '해', '구', '시오']\n"
     ]
    }
   ],
   "source": [
    "# 사전추가 전 결과 출력\n",
    "print(CustomTagger.nouns(sample_text))\n"
   ]
  },
  {
   "cell_type": "markdown",
   "metadata": {},
   "source": [
    "- 용사전 추가 전에는 위에 okt 와 마찬가지로 '연립방정식'을 인식하지 않고, '립', '방정식' 분리해서 인식한다."
   ]
  },
  {
   "cell_type": "code",
   "execution_count": 24,
   "metadata": {},
   "outputs": [
    {
     "name": "stdout",
     "output_type": "stream",
     "text": [
      "['다음', '표', '빵', '버터', '단백질', '지방', '백분율', '단백질', '지방', '섭', '취하', '려면', '빵', '버터', '각각', '몇', '구', '구분', '단백질', '지방', '빵', '버터', '미지수', '정', '시오', '연립방정식', '세', '우시', '오', '해', '구', '시오']\n"
     ]
    }
   ],
   "source": [
    "# 사전 추가 및 결과 출력\n",
    "\n",
    "CustomTagger.add_dictionary('연립방정식', 'Noun')\n",
    "\n",
    "print(CustomTagger.nouns(sample_text))"
   ]
  },
  {
   "cell_type": "markdown",
   "metadata": {},
   "source": [
    "- 사전 추가 후 '연리방정식'이 인식되고 있다.\n",
    "- 하지만, Customized KoNLPy의 기본 태깅 성능이 일반 KoNLPy 보다 약해, 동사에 포함된 어근이나 suffix들('세', '우시', '오')을 명사로 추출하는 경우도 많다.\n",
    "\n",
    "\n",
    "##### 소결\n",
    "\n",
    "| 형태소        | 장점           | 단점  |\n",
    "| ------------- |:-------------:| :-----:|\n",
    "| OKT(KoNLPy)  | 명사 빈도에 따른 반복 | 일부 수학용어 실패, 숫자 무시 |\n",
    "| KKma(KoNLPy)  | 숫자 인식  |  일부 수학용어 실패, 반복 명사 무시 |\n",
    "| Custom KoNLPy  | 손쉬운 용어사전 추가 | 명사 추출 성능 |\n",
    "\n",
    "각각 장단점이 있어 쉽게 결정할 수 없고, 1~2주 정도 여러가지 관점에서 고민이 필요할 것 같다. 수학문제이니 만큼 숫자가 중요할 수 있으나, 어차피 수식을 포함하지 않는다면 의미가 떨어질 수 있다. 용어사전 효율성이 주는 효과와 기본 품사 태깅 성능 간의 tradeoff도 벡터화된 글자들의 의미를 보면 중요하지만, 오직 텍스트 유사도 성능 관점에서도 의미가 있을지 아직은 잘 모르겠다. 하지만, 유사도 외에 키워드나 LDA 토픽 모델링 등 다른 서비스에도 활용되는 벡터화를 염두에 둔다면, Custom 개발을 차분히 지속해야 하고, 이는 KoNLPy에 jar 추가하는 방식일 수도, Custom KoNLPy를 잘 수정하는 것일 수도 있다.\n"
   ]
  },
  {
   "cell_type": "markdown",
   "metadata": {},
   "source": [
    "#### 단순 Tf-IDF 기반 유사도 분석\n",
    "##### OKT 활용"
   ]
  },
  {
   "cell_type": "code",
   "execution_count": 31,
   "metadata": {},
   "outputs": [
    {
     "name": "stdout",
     "output_type": "stream",
     "text": [
      "[[1.         0.04743577 0.60433973 0.01660117 0.51130282]\n",
      " [0.04743577 1.         0.07254548 0.01145361 0.14275481]\n",
      " [0.60433973 0.07254548 1.         0.         0.3992814 ]\n",
      " [0.01660117 0.01145361 0.         1.         0.        ]\n",
      " [0.51130282 0.14275481 0.3992814  0.         1.        ]]\n"
     ]
    }
   ],
   "source": [
    "from sklearn.feature_extraction.text import TfidfVectorizer\n",
    "\n",
    "text_data =[]\n",
    "for i in range(len(sample_df)):\n",
    "    text1 = sample_df['문항Text'].iloc[i]\n",
    "    text1 = okt.nouns(text1)\n",
    "    text2 =  ' '.join(text1) # 개별 명사가 구분된 리스트를 하나로 스트링으로 조인하여 (마치 하나의 문서처럼 만들어) 비교한다.\n",
    "    text_data.append(text2)\n",
    "\n",
    "tfidf_vectorizer = TfidfVectorizer()\n",
    "tfidf_matrix = tfidf_vectorizer.fit_transform(text_data) \n",
    "\n",
    "print((tfidf_matrix*tfidf_matrix.T).toarray())"
   ]
  },
  {
   "cell_type": "markdown",
   "metadata": {},
   "source": [
    "- 가장 유사도가 높은 짝(pair)과 가장 낮은 짝의 원문서(수식 제거 후 문서) 인덱스를 찾아서 비교보자\n",
    "- 가장 유사: 1번 & 3번 문서\n",
    "- 가장 다름: 1번 & 4번 문서"
   ]
  },
  {
   "cell_type": "code",
   "execution_count": 26,
   "metadata": {},
   "outputs": [
    {
     "name": "stdout",
     "output_type": "stream",
     "text": [
      "기준문서:\n",
      " 해마루 중학교의 올해 학생 수는 작년에 비하여 남학생 수는 3 줄고 여학생 수는 4 줄어서 전체 학생 수는 15명이 적어진 425명이 되었다고 한다 작년의 냠학생 수와 여학생 수를 각각 구하면 1 남학생 180 명 여학생 260 명 2 남학생 220 명 여학생 220 명 3 남학생 200 명 여학생 240 명 4 남학생 240 명 여학생 200 명 5 남학생 260 명 여학생 180 명 \n",
      "\n",
      "가장 유사한 문서:\n",
      " 어느 중학교의 올 해 학생 수는 작년보다 남학생 은 10 늘고 여학생은 5 줄어 전체 학생 수가 30 명이 늘었다 올해 전체 학생 수가 930 명 일 때 올 해의 남학생 수는 1 380 2 400 3 500 4 550 5 600 \n",
      "\n",
      "가장 다른 문서:\n",
      " 다음 표는 빵과 버터에 들어있는 단백질과 지방의 백분율 이다 단백질 92 지방 60 을 섭취하려면 빵과 버터를 각각 몇 씩 먹으면 되는지 구하여라 구분 단백질 지방 빵 9 2 버터 4 80 1 미지수를 정하시오 2 연립방정식을 세우시오 3 해를 구하시오 \n"
     ]
    }
   ],
   "source": [
    "print(\"기준문서:\\n\", sample_df['문항Text'].iloc[0], \"\\n\")\n",
    "\n",
    "print(\"가장 유사한 문서:\\n\", sample_df['문항Text'].iloc[2], \"\\n\")\n",
    "\n",
    "print(\"가장 다른 문서:\\n\", sample_df['문항Text'].iloc[3])\n"
   ]
  },
  {
   "cell_type": "markdown",
   "metadata": {},
   "source": [
    "- 샘플 데이터 5개 내에서는 눈으로 확인해도 OKT품사 태그와 Tf-IDf 기반 단순 유사도가 잘 작동하는 것으로 보인다.\n",
    "\n",
    "##### KKma 활용"
   ]
  },
  {
   "cell_type": "code",
   "execution_count": 36,
   "metadata": {},
   "outputs": [
    {
     "name": "stdout",
     "output_type": "stream",
     "text": [
      "[[1.         0.09343432 0.22132604 0.         0.22520832]\n",
      " [0.09343432 1.         0.15966255 0.05463846 0.21492622]\n",
      " [0.22132604 0.15966255 1.         0.         0.3048214 ]\n",
      " [0.         0.05463846 0.         1.         0.        ]\n",
      " [0.22520832 0.21492622 0.3048214  0.         1.        ]]\n"
     ]
    }
   ],
   "source": [
    "text_data =[]\n",
    "for i in range(len(sample_df)):\n",
    "    text1 = sample_df['문항Text'].iloc[i]\n",
    "    text1 = kkma.nouns(text1)\n",
    "    text2 =  ' '.join(text1) # 개별 명사가 구분된 리스트를 하나로 스트링으로 조인하여 (마치 하나의 문서처럼 만들어) 비교한다.\n",
    "    text_data.append(text2)\n",
    "\n",
    "tfidf_vectorizer = TfidfVectorizer()\n",
    "tfidf_matrix = tfidf_vectorizer.fit_transform(text_data) \n",
    "\n",
    "print((tfidf_matrix*tfidf_matrix.T).toarray())"
   ]
  },
  {
   "cell_type": "markdown",
   "metadata": {},
   "source": [
    "- OKT와 다른 순위를 보여준다.\n",
    "- 가장 유사: 3번 & 5번 문서\n",
    "- 가장 다름: 3번 & 4번 외 (유사도가 0인 경우가 몇개 있음) "
   ]
  },
  {
   "cell_type": "code",
   "execution_count": 37,
   "metadata": {},
   "outputs": [
    {
     "name": "stdout",
     "output_type": "stream",
     "text": [
      "기준문서:\n",
      " 어느 중학교의 올 해 학생 수는 작년보다 남학생 은 10 늘고 여학생은 5 줄어 전체 학생 수가 30 명이 늘었다 올해 전체 학생 수가 930 명 일 때 올 해의 남학생 수는 1 380 2 400 3 500 4 550 5 600 \n",
      "\n",
      "가장 유사한 문서:\n",
      " 어느 중학교 작년 입학생 수는 150 명이었다 올 해 입학한 남학생 수는 작년에 비해 5 감소하고 여학생 수는 10 증가하여 전체적으로 학생 수는 3 명이 증가하였다 올해 입학한 여학생 수를 구하여라  \n",
      "\n",
      "가장 다른 문서:\n",
      " 다음 표는 빵과 버터에 들어있는 단백질과 지방의 백분율 이다 단백질 92 지방 60 을 섭취하려면 빵과 버터를 각각 몇 씩 먹으면 되는지 구하여라 구분 단백질 지방 빵 9 2 버터 4 80 1 미지수를 정하시오 2 연립방정식을 세우시오 3 해를 구하시오 \n"
     ]
    }
   ],
   "source": [
    "print(\"기준문서:\\n\", sample_df['문항Text'].iloc[2], \"\\n\")\n",
    "\n",
    "print(\"가장 유사한 문서:\\n\", sample_df['문항Text'].iloc[4], \"\\n\")\n",
    "\n",
    "print(\"가장 다른 문서:\\n\", sample_df['문항Text'].iloc[3])"
   ]
  },
  {
   "cell_type": "markdown",
   "metadata": {},
   "source": [
    "\n",
    "#### 코사인거리 또는 코사인유사도 비교\n",
    "- 위에서 tfidf_matrix 를 가로세로 전환(transpose)한 뒤 두 행렬을 곱해서 유사도를 계산했는데( tfidf_matrix*tfidf_matrix.T ), 싸이킷런에서 제공하는 코사인거리도 같은 연산이다.\n",
    "- Cosine_Similiarty 함수는 위와 같은 값을 제공할 것이고, Cosine_Distance는 1 - Cosine_similiarty이다. 거리로 볼 경우 작을 수록 유사함.\n",
    "- 같은 값이지만, 라이브러리 확인을 위해 돌려본다."
   ]
  },
  {
   "cell_type": "code",
   "execution_count": 38,
   "metadata": {},
   "outputs": [
    {
     "data": {
      "text/plain": [
       "array([[1.        , 0.09343432, 0.22132604, 0.        , 0.22520832],\n",
       "       [0.09343432, 1.        , 0.15966255, 0.05463846, 0.21492622],\n",
       "       [0.22132604, 0.15966255, 1.        , 0.        , 0.3048214 ],\n",
       "       [0.        , 0.05463846, 0.        , 1.        , 0.        ],\n",
       "       [0.22520832, 0.21492622, 0.3048214 , 0.        , 1.        ]])"
      ]
     },
     "execution_count": 38,
     "metadata": {},
     "output_type": "execute_result"
    }
   ],
   "source": [
    "\n",
    "from sklearn.metrics.pairwise import cosine_similarity\n",
    "\n",
    "cos_sim_df = cosine_similarity(tfidf_matrix, tfidf_matrix)\n",
    "\n",
    "cos_sim_df"
   ]
  },
  {
   "cell_type": "markdown",
   "metadata": {},
   "source": [
    "- 코사인거리는 1-코사인유사도이기 때문이 일단 skip 한다."
   ]
  },
  {
   "cell_type": "markdown",
   "metadata": {},
   "source": [
    "#### 유클리디안 거리 비교"
   ]
  },
  {
   "cell_type": "code",
   "execution_count": 46,
   "metadata": {},
   "outputs": [
    {
     "data": {
      "text/plain": [
       "array([[0.        , 1.34652566, 1.24793747, 1.41421356, 1.24482263],\n",
       "       [1.34652566, 0.        , 1.29640847, 1.37503566, 1.25305529],\n",
       "       [1.24793747, 1.29640847, 0.        , 1.41421356, 1.17913409],\n",
       "       [1.41421356, 1.37503566, 1.41421356, 0.        , 1.41421356],\n",
       "       [1.24482263, 1.25305529, 1.17913409, 1.41421356, 0.        ]])"
      ]
     },
     "execution_count": 46,
     "metadata": {},
     "output_type": "execute_result"
    }
   ],
   "source": [
    "from sklearn.metrics.pairwise import euclidean_distances\n",
    "\n",
    "euclid_diff = euclidean_distances(tfidf_matrix, tfidf_matrix)\n",
    "\n",
    "euclid_diff\n"
   ]
  },
  {
   "cell_type": "markdown",
   "metadata": {},
   "source": [
    "- 유사도 순위비교 자체는 문제없으나, 다른 알고리즘들의 0에서 1사이 값으로 출력했기 때문에, 같은 스케일로 비교하기 위해 아래와 같이 정규화를 한다."
   ]
  },
  {
   "cell_type": "code",
   "execution_count": 45,
   "metadata": {},
   "outputs": [
    {
     "data": {
      "text/plain": [
       "array([[0.        , 0.07037462, 0.06522202, 0.07391225, 0.06505923],\n",
       "       [0.07037462, 0.        , 0.0677553 , 0.07186466, 0.0654895 ],\n",
       "       [0.06522202, 0.0677553 , 0.        , 0.07391225, 0.06162609],\n",
       "       [0.07391225, 0.07186466, 0.07391225, 0.        , 0.07391225],\n",
       "       [0.06505923, 0.0654895 , 0.06162609, 0.07391225, 0.        ]])"
      ]
     },
     "execution_count": 45,
     "metadata": {},
     "output_type": "execute_result"
    }
   ],
   "source": [
    "# 유클리디안 거리 정규화\n",
    "\n",
    "import numpy as np\n",
    "\n",
    "def l1_normalize(v):\n",
    "    norm = np.sum(v)\n",
    "    return v / norm\n",
    "\n",
    "tfidf_norm_l1 = l1_normalize(tfidf_matrix)\n",
    "\n",
    "euclid_diff_nm = euclidean_distances(tfidf_norm_l1, tfidf_norm_l1)\n",
    "\n",
    "euclid_diff_nm"
   ]
  },
  {
   "cell_type": "markdown",
   "metadata": {},
   "source": [
    "- 1번 문서와 가장 가까운 문서는 3번, 5번 문서로 코사인유사도와 같은 순위를 보임"
   ]
  },
  {
   "cell_type": "markdown",
   "metadata": {},
   "source": [
    "#### 맨하턴거리 비교"
   ]
  },
  {
   "cell_type": "code",
   "execution_count": 44,
   "metadata": {},
   "outputs": [
    {
     "data": {
      "text/plain": [
       "array([[0.        , 0.35181712, 0.30253284, 0.41929011, 0.2949358 ],\n",
       "       [0.35181712, 0.        , 0.31813244, 0.36525506, 0.27768317],\n",
       "       [0.30253284, 0.31813244, 0.        , 0.41316991, 0.25744909],\n",
       "       [0.41929011, 0.36525506, 0.41316991, 0.        , 0.38678119],\n",
       "       [0.2949358 , 0.27768317, 0.25744909, 0.38678119, 0.        ]])"
      ]
     },
     "execution_count": 44,
     "metadata": {},
     "output_type": "execute_result"
    }
   ],
   "source": [
    "from sklearn.metrics.pairwise import manhattan_distances\n",
    "\n",
    "# 여기서도 정규화된 행렬을 사용한다.\n",
    "manhattan_dif = manhattan_distances(tfidf_norm_l1, tfidf_norm_l1)\n",
    "\n",
    "manhattan_dif"
   ]
  },
  {
   "cell_type": "markdown",
   "metadata": {},
   "source": [
    "- 이번에도, 1번 문서와 가장 가까운 문서는 3번, 5번 문서로 코사인유사도와 같은 순위를 보임"
   ]
  },
  {
   "cell_type": "markdown",
   "metadata": {},
   "source": [
    "#### 문서별 유사 문서 순위 정렬\n",
    "- 형태소 태깅 엔진 및 유사도/거리 알고리즘을 결정하고 나면, 전체 데이터에 연산한다. 매우 거대한 matrix가 될 것임\n",
    "- 최종 matrix의 각 row 에 numpy.argsort() 기능 또는 유사한 코드로 유사문서를 정렬한 값이 최종 산출물이 될 것이다.\n",
    "- 즉, 각 row 에 있는 모든 유사도 수치를 내림차순으로 정렬했을 때 그 값이 컬럼인덱스/컬럼명을 돌려줘야 한다. 해당 인덱스는 궁극적으로 QID와 매칭되야함.\n",
    " "
   ]
  },
  {
   "cell_type": "code",
   "execution_count": 54,
   "metadata": {},
   "outputs": [
    {
     "data": {
      "text/plain": [
       "array([0, 4, 2, 1, 3], dtype=int64)"
      ]
     },
     "execution_count": 54,
     "metadata": {},
     "output_type": "execute_result"
    }
   ],
   "source": [
    "import numpy as np\n",
    "\n",
    "x = np.array(manhattan_dif[0])\n",
    "np.argsort(x)\n"
   ]
  },
  {
   "cell_type": "code",
   "execution_count": 56,
   "metadata": {},
   "outputs": [
    {
     "name": "stdout",
     "output_type": "stream",
     "text": [
      "[0, 4, 2, 1, 3]\n"
     ]
    }
   ],
   "source": [
    "# numpy 없이 함수 작성 참조 https://stackoverflow.com/questions/3382352/equivalent-of-numpy-argsort-in-basic-python\n",
    "\n",
    "def argsort(seq):\n",
    "    # http://stackoverflow.com/questions/3071415/efficient-method-to-calculate-the-rank-vector-of-a-list-in-python\n",
    "    return sorted(range(len(seq)), key=seq.__getitem__)\n",
    "\n",
    "x = manhattan_dif[0]\n",
    "\n",
    "print(argsort(x))"
   ]
  },
  {
   "cell_type": "markdown",
   "metadata": {},
   "source": [
    "- 첫 번째 항목은 해당 row 자신을 가르키기 떄문에, 위 함수 사용 시 첫번째 값을 제거해야 한다."
   ]
  },
  {
   "cell_type": "code",
   "execution_count": 60,
   "metadata": {},
   "outputs": [
    {
     "name": "stdout",
     "output_type": "stream",
     "text": [
      "[4, 2, 1, 3]\n"
     ]
    }
   ],
   "source": [
    "x = manhattan_dif[0]\n",
    "\n",
    "sim_list = argsort(x)\n",
    "sim_list.pop(0)\n",
    "print(sim_list)"
   ]
  },
  {
   "cell_type": "markdown",
   "metadata": {},
   "source": [
    "- 상기 코드를 유사도 메트릭스 전체 row 에 적용하여 도출된 매트릭스가 최종 산출물의 모양일 것임"
   ]
  }
 ],
 "metadata": {
  "kernelspec": {
   "display_name": "Python 3.10.4 64-bit",
   "language": "python",
   "name": "python3"
  },
  "language_info": {
   "codemirror_mode": {
    "name": "ipython",
    "version": 3
   },
   "file_extension": ".py",
   "mimetype": "text/x-python",
   "name": "python",
   "nbconvert_exporter": "python",
   "pygments_lexer": "ipython3",
   "version": "3.10.4"
  },
  "orig_nbformat": 4,
  "vscode": {
   "interpreter": {
    "hash": "4000f33da06eb4363f481b55400e5deb8283b30920f8d1421ce9bac80212585c"
   }
  }
 },
 "nbformat": 4,
 "nbformat_minor": 2
}
